{
 "cells": [
  {
   "cell_type": "markdown",
   "id": "1d4c71cd-d46a-4267-bfee-a5bb5ed39e8e",
   "metadata": {},
   "source": [
    "<h1>Data Analysis of a stock market prices uisng Python Pandas and visualization using Matplotlib</h1>"
   ]
  },
  {
   "cell_type": "code",
   "execution_count": 1,
   "id": "2254e207-6bfc-48c1-abab-08ec8002eabd",
   "metadata": {},
   "outputs": [],
   "source": [
    "import pandas as pd\n",
    "import numpy as np\n",
    "import matplotlib.pyplot as plt\n",
    "import matplotx"
   ]
  },
  {
   "cell_type": "markdown",
   "id": "3a854f5c-c593-46bf-bc86-a3201b453af2",
   "metadata": {},
   "source": [
    "<h1>csv file reading in Pandas</h1>"
   ]
  },
  {
   "cell_type": "code",
   "execution_count": 2,
   "id": "0bc5927f-5047-47c0-9a55-edeb29aa4d1f",
   "metadata": {},
   "outputs": [],
   "source": [
    "data = pd.read_csv('C:\\\\Users\\\\User\\\\Downloads\\\\Data\\\\stock_data_1.csv')"
   ]
  },
  {
   "cell_type": "code",
   "execution_count": 3,
   "id": "b223939e-cc35-4d66-9834-670bb5cd45d5",
   "metadata": {},
   "outputs": [
    {
     "data": {
      "text/html": [
       "<div>\n",
       "<style scoped>\n",
       "    .dataframe tbody tr th:only-of-type {\n",
       "        vertical-align: middle;\n",
       "    }\n",
       "\n",
       "    .dataframe tbody tr th {\n",
       "        vertical-align: top;\n",
       "    }\n",
       "\n",
       "    .dataframe thead th {\n",
       "        text-align: right;\n",
       "    }\n",
       "</style>\n",
       "<table border=\"1\" class=\"dataframe\">\n",
       "  <thead>\n",
       "    <tr style=\"text-align: right;\">\n",
       "      <th></th>\n",
       "      <th>Date</th>\n",
       "      <th>Open</th>\n",
       "      <th>High</th>\n",
       "      <th>Low</th>\n",
       "      <th>Close</th>\n",
       "      <th>Shares Traded</th>\n",
       "      <th>Turnover</th>\n",
       "    </tr>\n",
       "  </thead>\n",
       "  <tbody>\n",
       "    <tr>\n",
       "      <th>0</th>\n",
       "      <td>20-Sep-23</td>\n",
       "      <td>5839.1</td>\n",
       "      <td>5865.45</td>\n",
       "      <td>5768.95</td>\n",
       "      <td>5808.80</td>\n",
       "      <td>804217556.0</td>\n",
       "      <td>6251.54</td>\n",
       "    </tr>\n",
       "    <tr>\n",
       "      <th>1</th>\n",
       "      <td>21-Sep-23</td>\n",
       "      <td>5798.0</td>\n",
       "      <td>5824.70</td>\n",
       "      <td>5712.95</td>\n",
       "      <td>5728.75</td>\n",
       "      <td>903507544.0</td>\n",
       "      <td>6237.62</td>\n",
       "    </tr>\n",
       "  </tbody>\n",
       "</table>\n",
       "</div>"
      ],
      "text/plain": [
       "        Date    Open     High      Low    Close  Shares Traded  Turnover\n",
       "0  20-Sep-23  5839.1  5865.45  5768.95  5808.80    804217556.0   6251.54\n",
       "1  21-Sep-23  5798.0  5824.70  5712.95  5728.75    903507544.0   6237.62"
      ]
     },
     "execution_count": 3,
     "metadata": {},
     "output_type": "execute_result"
    }
   ],
   "source": [
    "data.head(2)"
   ]
  },
  {
   "cell_type": "code",
   "execution_count": 4,
   "id": "5e790bcb-ab7a-4500-86bd-10055b0459d9",
   "metadata": {},
   "outputs": [
    {
     "data": {
      "text/html": [
       "<div>\n",
       "<style scoped>\n",
       "    .dataframe tbody tr th:only-of-type {\n",
       "        vertical-align: middle;\n",
       "    }\n",
       "\n",
       "    .dataframe tbody tr th {\n",
       "        vertical-align: top;\n",
       "    }\n",
       "\n",
       "    .dataframe thead th {\n",
       "        text-align: right;\n",
       "    }\n",
       "</style>\n",
       "<table border=\"1\" class=\"dataframe\">\n",
       "  <thead>\n",
       "    <tr style=\"text-align: right;\">\n",
       "      <th></th>\n",
       "      <th>Date</th>\n",
       "      <th>Open</th>\n",
       "      <th>High</th>\n",
       "      <th>Low</th>\n",
       "      <th>Close</th>\n",
       "      <th>Shares Traded</th>\n",
       "      <th>Turnover</th>\n",
       "    </tr>\n",
       "  </thead>\n",
       "  <tbody>\n",
       "    <tr>\n",
       "      <th>19</th>\n",
       "      <td>18-Oct-23</td>\n",
       "      <td>6075.45</td>\n",
       "      <td>6096.0</td>\n",
       "      <td>6020.55</td>\n",
       "      <td>6027.35</td>\n",
       "      <td>571498092.0</td>\n",
       "      <td>5080.25</td>\n",
       "    </tr>\n",
       "    <tr>\n",
       "      <th>20</th>\n",
       "      <td>19-Oct-23</td>\n",
       "      <td>6009.70</td>\n",
       "      <td>6045.5</td>\n",
       "      <td>5969.95</td>\n",
       "      <td>6031.00</td>\n",
       "      <td>NaN</td>\n",
       "      <td>NaN</td>\n",
       "    </tr>\n",
       "  </tbody>\n",
       "</table>\n",
       "</div>"
      ],
      "text/plain": [
       "         Date     Open    High      Low    Close  Shares Traded  Turnover\n",
       "19  18-Oct-23  6075.45  6096.0  6020.55  6027.35    571498092.0   5080.25\n",
       "20  19-Oct-23  6009.70  6045.5  5969.95  6031.00            NaN       NaN"
      ]
     },
     "execution_count": 4,
     "metadata": {},
     "output_type": "execute_result"
    }
   ],
   "source": [
    "data.tail(2)"
   ]
  },
  {
   "cell_type": "code",
   "execution_count": 5,
   "id": "a14ea3cf-7cf6-4f50-92e8-9a33f4b22fb3",
   "metadata": {},
   "outputs": [
    {
     "data": {
      "text/plain": [
       "Index(['Date', 'Open', 'High', 'Low', 'Close', 'Shares Traded', 'Turnover'], dtype='object')"
      ]
     },
     "execution_count": 5,
     "metadata": {},
     "output_type": "execute_result"
    }
   ],
   "source": [
    "data.columns"
   ]
  },
  {
   "cell_type": "code",
   "execution_count": 6,
   "id": "1f1b55f2-7447-426b-b77b-418e36e95b63",
   "metadata": {},
   "outputs": [],
   "source": [
    "r,c = data.shape"
   ]
  },
  {
   "cell_type": "markdown",
   "id": "5e7b66c8-0817-44af-93c4-f40982a88d57",
   "metadata": {
    "jp-MarkdownHeadingCollapsed": true
   },
   "source": [
    "<h1>Plot all the prices using matplotlib</h1>"
   ]
  },
  {
   "cell_type": "code",
   "execution_count": 20,
   "id": "55c624ff-6289-4ede-bf67-9fb121460f60",
   "metadata": {},
   "outputs": [
    {
     "data": {
      "text/plain": [
       "Text(0.5, 1.0, 'Stock Prices of 20 days')"
      ]
     },
     "execution_count": 20,
     "metadata": {},
     "output_type": "execute_result"
    },
    {
     "data": {
      "image/png": "[encoded data removed]",
      "text/plain": [
       "<Figure size 640x480 with 1 Axes>"
      ]
     },
     "metadata": {},
     "output_type": "display_data"
    }
   ],
   "source": [
    "a = [i for i in range(r)]\n",
    "plt.plot(a, data.Open, '-.', color='red', label='Open Price')\n",
    "plt.plot(a, data.High, '--', label='High Price')\n",
    "plt.plot(a, data.Low, label='Low Price')\n",
    "plt.plot(a, data.Close, label='Close Price')\n",
    "matplotx.line_labels()\n",
    "plt.xlabel(\"Time Unit\")\n",
    "plt.ylabel(\"Price\")\n",
    "plt.title(\"Stock Prices of 20 days\")"
   ]
  },
  {
   "cell_type": "code",
   "execution_count": 21,
   "id": "e916d129-fe25-46da-bbde-56802b5b38b3",
   "metadata": {},
   "outputs": [
    {
     "data": {
      "text/html": [
       "<div>\n",
       "<style scoped>\n",
       "    .dataframe tbody tr th:only-of-type {\n",
       "        vertical-align: middle;\n",
       "    }\n",
       "\n",
       "    .dataframe tbody tr th {\n",
       "        vertical-align: top;\n",
       "    }\n",
       "\n",
       "    .dataframe thead th {\n",
       "        text-align: right;\n",
       "    }\n",
       "</style>\n",
       "<table border=\"1\" class=\"dataframe\">\n",
       "  <thead>\n",
       "    <tr style=\"text-align: right;\">\n",
       "      <th></th>\n",
       "      <th>Date</th>\n",
       "      <th>Open</th>\n",
       "      <th>High</th>\n",
       "      <th>Low</th>\n",
       "      <th>Close</th>\n",
       "      <th>Shares Traded</th>\n",
       "      <th>Turnover</th>\n",
       "    </tr>\n",
       "  </thead>\n",
       "  <tbody>\n",
       "    <tr>\n",
       "      <th>19</th>\n",
       "      <td>18-Oct-23</td>\n",
       "      <td>6075.45</td>\n",
       "      <td>6096.0</td>\n",
       "      <td>6020.55</td>\n",
       "      <td>6027.35</td>\n",
       "      <td>571498092.0</td>\n",
       "      <td>5080.25</td>\n",
       "    </tr>\n",
       "    <tr>\n",
       "      <th>20</th>\n",
       "      <td>19-Oct-23</td>\n",
       "      <td>6009.70</td>\n",
       "      <td>6045.5</td>\n",
       "      <td>5969.95</td>\n",
       "      <td>6031.00</td>\n",
       "      <td>0.0</td>\n",
       "      <td>0.00</td>\n",
       "    </tr>\n",
       "  </tbody>\n",
       "</table>\n",
       "</div>"
      ],
      "text/plain": [
       "         Date     Open    High      Low    Close  Shares Traded  Turnover\n",
       "19  18-Oct-23  6075.45  6096.0  6020.55  6027.35    571498092.0   5080.25\n",
       "20  19-Oct-23  6009.70  6045.5  5969.95  6031.00            0.0      0.00"
      ]
     },
     "execution_count": 21,
     "metadata": {},
     "output_type": "execute_result"
    }
   ],
   "source": [
    "data.tail(2)"
   ]
  },
  {
   "cell_type": "markdown",
   "id": "b773e2ae-4e4d-4c6f-ae74-57a9fd868eb9",
   "metadata": {
    "jp-MarkdownHeadingCollapsed": true
   },
   "source": [
    "<h1>Here 'Shares Traded' and 'Turnover' Column have two NaN values</h1>\n",
    "<h1>Have to turn these NaN to 0 using fillna</h1>"
   ]
  },
  {
   "cell_type": "code",
   "execution_count": 22,
   "id": "97306eae-2a64-4940-98e4-ecba5bc1c99f",
   "metadata": {},
   "outputs": [],
   "source": [
    "data['Shares Traded'] = data['Shares Traded'].fillna(0)\n",
    "data.Turnover = data.Turnover.fillna(0)"
   ]
  },
  {
   "cell_type": "code",
   "execution_count": 23,
   "id": "32a621d1-215b-41c4-a9fa-35c2c3815861",
   "metadata": {},
   "outputs": [
    {
     "data": {
      "text/html": [
       "<div>\n",
       "<style scoped>\n",
       "    .dataframe tbody tr th:only-of-type {\n",
       "        vertical-align: middle;\n",
       "    }\n",
       "\n",
       "    .dataframe tbody tr th {\n",
       "        vertical-align: top;\n",
       "    }\n",
       "\n",
       "    .dataframe thead th {\n",
       "        text-align: right;\n",
       "    }\n",
       "</style>\n",
       "<table border=\"1\" class=\"dataframe\">\n",
       "  <thead>\n",
       "    <tr style=\"text-align: right;\">\n",
       "      <th></th>\n",
       "      <th>Date</th>\n",
       "      <th>Open</th>\n",
       "      <th>High</th>\n",
       "      <th>Low</th>\n",
       "      <th>Close</th>\n",
       "      <th>Shares Traded</th>\n",
       "      <th>Turnover</th>\n",
       "    </tr>\n",
       "  </thead>\n",
       "  <tbody>\n",
       "    <tr>\n",
       "      <th>19</th>\n",
       "      <td>18-Oct-23</td>\n",
       "      <td>6075.45</td>\n",
       "      <td>6096.0</td>\n",
       "      <td>6020.55</td>\n",
       "      <td>6027.35</td>\n",
       "      <td>571498092.0</td>\n",
       "      <td>5080.25</td>\n",
       "    </tr>\n",
       "    <tr>\n",
       "      <th>20</th>\n",
       "      <td>19-Oct-23</td>\n",
       "      <td>6009.70</td>\n",
       "      <td>6045.5</td>\n",
       "      <td>5969.95</td>\n",
       "      <td>6031.00</td>\n",
       "      <td>0.0</td>\n",
       "      <td>0.00</td>\n",
       "    </tr>\n",
       "  </tbody>\n",
       "</table>\n",
       "</div>"
      ],
      "text/plain": [
       "         Date     Open    High      Low    Close  Shares Traded  Turnover\n",
       "19  18-Oct-23  6075.45  6096.0  6020.55  6027.35    571498092.0   5080.25\n",
       "20  19-Oct-23  6009.70  6045.5  5969.95  6031.00            0.0      0.00"
      ]
     },
     "execution_count": 23,
     "metadata": {},
     "output_type": "execute_result"
    }
   ],
   "source": [
    "data.tail(2)"
   ]
  },
  {
   "cell_type": "code",
   "execution_count": 24,
   "id": "64401bd3-95b6-479c-b8a2-a9a55a4d76d1",
   "metadata": {},
   "outputs": [
    {
     "data": {
      "image/png": "[encoded data removed]",
      "text/plain": [
       "<Figure size 640x480 with 1 Axes>"
      ]
     },
     "metadata": {},
     "output_type": "display_data"
    }
   ],
   "source": [
    "plt.plot(a, data['Shares Traded'], '-.', label='Shares Traded')\n",
    "plt.plot(a, data['Turnover'], '--', label='Turnover')\n",
    "plt.xlabel(\"Time Unit\")\n",
    "plt.ylabel(\"Price\")\n",
    "plt.title(\"Stock Prices of 20 days\")\n",
    "matplotx.line_labels()"
   ]
  },
  {
   "cell_type": "markdown",
   "id": "8db3ee9d-b48b-4880-8ef4-280636fa2e2c",
   "metadata": {},
   "source": [
    "<h1>Finding all the build-in functions of pandas by dir(file_name)</h>"
   ]
  },
  {
   "cell_type": "code",
   "execution_count": 25,
   "id": "4d227dbc-195f-46d6-b186-22d7b5f254f4",
   "metadata": {},
   "outputs": [
    {
     "name": "stdout",
     "output_type": "stream",
     "text": [
      "Contains in index no. : 342\n"
     ]
    }
   ],
   "source": [
    "try:\n",
    "    if dir(data).index('min'):\n",
    "        print(f\"Contains in index no. : {dir(data).index('min')}\")\n",
    "except:\n",
    "    print(\"Not Contain\")"
   ]
  },
  {
   "cell_type": "markdown",
   "id": "17989ba9-3805-4b5f-a4bd-d6b243ac2281",
   "metadata": {},
   "source": [
    "<h1 color='red'>In this section I have to import math module to sum up the floating numbers</h1>"
   ]
  },
  {
   "cell_type": "code",
   "execution_count": 26,
   "id": "302fd0db-d31b-49b0-97e1-bd51a0609350",
   "metadata": {},
   "outputs": [],
   "source": [
    "import math\n",
    "def finding_min(list):\n",
    "    return min(list)\n",
    "\n",
    "def finding_max(list):\n",
    "    return max(list)\n",
    "    \n",
    "def finding_mean(list):\n",
    "    return int(list.mean())\n",
    "\n",
    "def finding_median(list):\n",
    "    return int(list.median())\n",
    "\n",
    "def variance(list):\n",
    "    assert len(list)>0\n",
    "    mean = finding_mean(list)\n",
    "    s = [(mean-value)**2 for value in list]\n",
    "    return int(math.fsum(s)//(len(list)-1))\n",
    "\n",
    "def sd(list):\n",
    "    return int(math.sqrt(variance(list)))"
   ]
  },
  {
   "cell_type": "code",
   "execution_count": 27,
   "id": "6b108296-7b16-4202-b36c-9afbbadbeaf4",
   "metadata": {},
   "outputs": [
    {
     "name": "stdout",
     "output_type": "stream",
     "text": [
      "Mean of Open Prices : 5889\n",
      "Median of Open Prices 5886\n",
      "Variance of Open Prices : 8304\n",
      "Standared Deviation of Open Prices : 91\n"
     ]
    }
   ],
   "source": [
    "print(f\"Mean of Open Prices : {finding_mean(data.Open)}\\n\\\n",
    "Median of Open Prices {finding_median(data.Open)}\\n\\\n",
    "Variance of Open Prices : {variance(data.Open)}\\n\\\n",
    "Standared Deviation of Open Prices : {sd(data.Open)}\")"
   ]
  },
  {
   "cell_type": "code",
   "execution_count": 28,
   "id": "df5dc892-302e-47c4-ba61-2164971aa2e8",
   "metadata": {},
   "outputs": [
    {
     "name": "stdout",
     "output_type": "stream",
     "text": [
      "Mean of High Prices : 5921\n",
      "Median of High Prices 5917\n",
      "Variance of High Prices : 7708\n",
      "Standared Deviation of High Prices : 87\n"
     ]
    }
   ],
   "source": [
    "print(f\"Mean of High Prices : {finding_mean(data.High)}\\n\\\n",
    "Median of High Prices {finding_median(data.High)}\\n\\\n",
    "Variance of High Prices : {variance(data.High)}\\n\\\n",
    "Standared Deviation of High Prices : {sd(data.High)}\")"
   ]
  },
  {
   "cell_type": "code",
   "execution_count": 29,
   "id": "0e690038-b9d2-4362-9720-f6bc36a89963",
   "metadata": {},
   "outputs": [
    {
     "name": "stdout",
     "output_type": "stream",
     "text": [
      "Mean of Low Prices : 5851\n",
      "Median of Low Prices 5829\n",
      "Variance of Low Prices : 10298\n",
      "Standared Deviation of Low Prices : 101\n"
     ]
    }
   ],
   "source": [
    "print(f\"Mean of Low Prices : {finding_mean(data.Low)}\\n\\\n",
    "Median of Low Prices {finding_median(data.Low)}\\n\\\n",
    "Variance of Low Prices : {variance(data.Low)}\\n\\\n",
    "Standared Deviation of Low Prices : {sd(data.Low)}\")"
   ]
  },
  {
   "cell_type": "code",
   "execution_count": 30,
   "id": "c800c3a0-7846-43ee-a38f-8dc9b869560f",
   "metadata": {},
   "outputs": [
    {
     "name": "stdout",
     "output_type": "stream",
     "text": [
      "Mean of Close Prices : 5886\n",
      "Median of Close Prices 5883\n",
      "Variance of Close Prices : 9077\n",
      "Standared Deviation of Close Prices : 95\n"
     ]
    }
   ],
   "source": [
    "print(f\"Mean of Close Prices : {finding_mean(data.Close)}\\n\\\n",
    "Median of Close Prices {finding_median(data.Close)}\\n\\\n",
    "Variance of Close Prices : {variance(data.Close)}\\n\\\n",
    "Standared Deviation of Close Prices : {sd(data.Close)}\")"
   ]
  },
  {
   "cell_type": "code",
   "execution_count": 31,
   "id": "f8578061-2d15-4a47-b435-d323fd5d4cfd",
   "metadata": {},
   "outputs": [
    {
     "name": "stdout",
     "output_type": "stream",
     "text": [
      "Mean of Shares Traded : 479067681\n",
      "Median of Shares Traded 503546076\n",
      "Variance of Shares Traded : 51947198821905480\n",
      "Standared Deviation of Shares Traded : 227919281\n"
     ]
    }
   ],
   "source": [
    "print(f\"Mean of Shares Traded : {finding_mean(data['Shares Traded'])}\\n\\\n",
    "Median of Shares Traded {finding_median(data['Shares Traded'])}\\n\\\n",
    "Variance of Shares Traded : {variance(data['Shares Traded'])}\\n\\\n",
    "Standared Deviation of Shares Traded : {sd(data['Shares Traded'])}\")"
   ]
  },
  {
   "cell_type": "code",
   "execution_count": 32,
   "id": "cb3cbb6d-9e41-4cfb-832f-60081786ba5a",
   "metadata": {},
   "outputs": [
    {
     "name": "stdout",
     "output_type": "stream",
     "text": [
      "Mean of Turnover : 4417\n",
      "Median of Turnover 4416\n",
      "Variance of Turnover : 1761892\n",
      "Standared Deviation of Turnover : 1327\n"
     ]
    }
   ],
   "source": [
    "print(f\"Mean of Turnover : {finding_mean(data.Turnover)}\\n\\\n",
    "Median of Turnover {finding_median(data.Turnover)}\\n\\\n",
    "Variance of Turnover : {variance(data.Turnover)}\\n\\\n",
    "Standared Deviation of Turnover : {sd(data.Turnover)}\")"
   ]
  },
  {
   "cell_type": "code",
   "execution_count": null,
   "id": "925da814-6c60-4bea-8742-49fccbd346d6",
   "metadata": {},
   "outputs": [],
   "source": []
  },
  {
   "cell_type": "code",
   "execution_count": null,
   "id": "001ba0c2-2c76-43a1-9554-84a50f7d54c1",
   "metadata": {},
   "outputs": [],
   "source": []
  },
  {
   "cell_type": "code",
   "execution_count": null,
   "id": "caf5e410-c2ea-4ff2-b285-30ebe9057fef",
   "metadata": {},
   "outputs": [],
   "source": []
  }
 ],
 "metadata": {
  "kernelspec": {
   "display_name": "Python 3 (ipykernel)",
   "language": "python",
   "name": "python3"
  },
  "language_info": {
   "codemirror_mode": {
    "name": "ipython",
    "version": 3
   },
   "file_extension": ".py",
   "mimetype": "text/x-python",
   "name": "python",
   "nbconvert_exporter": "python",
   "pygments_lexer": "ipython3",
   "version": "3.12.0"
  }
 },
 "nbformat": 4,
 "nbformat_minor": 5
}
